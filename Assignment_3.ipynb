{
 "cells": [
  {
   "cell_type": "code",
   "execution_count": 20,
   "metadata": {},
   "outputs": [
    {
     "name": "stdout",
     "output_type": "stream",
     "text": [
      "Enter the number : 97\n",
      "A\n"
     ]
    }
   ],
   "source": [
    "# Wap to find grade\n",
    "\n",
    "\n",
    "#A for 100 -85\n",
    "#B for 85-75\n",
    "#c for 75-65\n",
    "#D for 65-55\n",
    "#E for 55 - 45\n",
    "#Fail for less than 45\n",
    "\n",
    "val = input(\"Enter the number : \")\n",
    "\n",
    "n1 = int(val)\n",
    "\n",
    "if n1 >= 100:\n",
    "    print(\"Marks  must be less than 100\")\n",
    "elif n1 >= 85:\n",
    "    print(\"A\")\n",
    "elif n1 >= 75:\n",
    "    print(\"B\")\n",
    "elif n1 >=65:\n",
    "    print(\"c\")\n",
    "elif n1 >= 55:\n",
    "    print(\"D\")\n",
    "elif n1 >= 45:\n",
    "    print(\"E\")\n",
    "elif n1 >= 0:\n",
    "    print(\"FAIL\")"
   ]
  },
  {
   "cell_type": "code",
   "execution_count": 19,
   "metadata": {},
   "outputs": [
    {
     "name": "stdout",
     "output_type": "stream",
     "text": [
      "Enter yoru guess : 251\n",
      "You don't watch that match!\n"
     ]
    }
   ],
   "source": [
    "# wap to guess the cricket score\n",
    "\n",
    "from random import randint\n",
    "c_score = randint(1 , 250)\n",
    "\n",
    "n1 = input(\"Enter yoru guess : \")\n",
    "n = int(n1)\n",
    "\n",
    "diff = abs(n - c_score) > 10\n",
    "\n",
    "if( diff <= 10 and diff >= 1):\n",
    "    print(\"Close By, you are true indian Fan!\")\n",
    "else:\n",
    "    print(\"You don't watch that match!\")\n",
    " "
   ]
  }
 ],
 "metadata": {
  "kernelspec": {
   "display_name": "Python 3",
   "language": "python",
   "name": "python3"
  },
  "language_info": {
   "codemirror_mode": {
    "name": "ipython",
    "version": 3
   },
   "file_extension": ".py",
   "mimetype": "text/x-python",
   "name": "python",
   "nbconvert_exporter": "python",
   "pygments_lexer": "ipython3",
   "version": "3.6.4"
  }
 },
 "nbformat": 4,
 "nbformat_minor": 2
}
