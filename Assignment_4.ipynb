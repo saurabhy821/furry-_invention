{
 "cells": [
  {
   "cell_type": "code",
   "execution_count": 5,
   "metadata": {},
   "outputs": [
    {
     "name": "stdout",
     "output_type": "stream",
     "text": [
      "Enter the number of elements you want in the list\n",
      "4\n",
      "Enter the elements of the list  1\n",
      "Enter the elements of the list  1\n",
      "Enter the elements of the list  1\n",
      "Enter the elements of the list  1\n",
      "No Match\n"
     ]
    }
   ],
   "source": [
    "# wap to search a list in the list\n",
    "def input_module():\n",
    "    l1 = []\n",
    "    nl = []\n",
    "    print(\"Enter the number of elements you want in the list\")\n",
    "    n1 = int(input())\n",
    "    for i in range(0, n1):\n",
    "        print(\"Enter the elements of the list \", end = \" \")\n",
    "        n2 = int(input())\n",
    "        l1.append(n2)\n",
    "    return l1\n",
    "\n",
    "def check_list(li):\n",
    "    l2= [1,1,5]\n",
    "    num = len(li)\n",
    "    for i in range(0, num):\n",
    "        if(li[i] == l2[0]):\n",
    "            l2.pop(0)\n",
    "        if(len(l2) == 0):\n",
    "            break\n",
    "\n",
    "    if(len(l2) == 0):\n",
    "        print(\"Match\")\n",
    "    else:\n",
    "        print(\"No Match\")\n",
    "\n",
    "        \n",
    "sol  = input_module()\n",
    "check_list(sol)"
   ]
  },
  {
   "cell_type": "markdown",
   "metadata": {},
   "source": [
    "###### "
   ]
  }
 ],
 "metadata": {
  "kernelspec": {
   "display_name": "Python 3",
   "language": "python",
   "name": "python3"
  },
  "language_info": {
   "codemirror_mode": {
    "name": "ipython",
    "version": 3
   },
   "file_extension": ".py",
   "mimetype": "text/x-python",
   "name": "python",
   "nbconvert_exporter": "python",
   "pygments_lexer": "ipython3",
   "version": "3.6.4"
  }
 },
 "nbformat": 4,
 "nbformat_minor": 2
}
